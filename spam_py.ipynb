{
  "nbformat": 4,
  "nbformat_minor": 0,
  "metadata": {
    "colab": {
      "name": "spam.py",
      "provenance": [],
      "authorship_tag": "ABX9TyPlI5RCDuV/bfAhooADT+B4",
      "include_colab_link": true
    },
    "kernelspec": {
      "name": "python3",
      "display_name": "Python 3"
    },
    "language_info": {
      "name": "python"
    }
  },
  "cells": [
    {
      "cell_type": "markdown",
      "metadata": {
        "id": "view-in-github",
        "colab_type": "text"
      },
      "source": [
        "<a href=\"https://colab.research.google.com/github/Komalbatheja/Spam-Detection-model/blob/main/spam_py.ipynb\" target=\"_parent\"><img src=\"https://colab.research.google.com/assets/colab-badge.svg\" alt=\"Open In Colab\"/></a>"
      ]
    },
    {
      "cell_type": "code",
      "source": [
        "import streamlit as st\n",
        "import pickle\n",
        "import string\n",
        "from nltk.corpus import stopwords\n",
        "import nltk\n",
        "from nltk.stem.porter import PorterStemmer\n",
        "\n",
        "ps = PorterStemmer()\n",
        "\n",
        "\n",
        "def transform_text(text):\n",
        "    text = text.lower()\n",
        "    text = nltk.word_tokenize(text)\n",
        "\n",
        "    y = []\n",
        "    for i in text:\n",
        "        if i.isalnum():\n",
        "            y.append(i)\n",
        "\n",
        "    text = y[:]\n",
        "    y.clear()\n",
        "\n",
        "    for i in text:\n",
        "        if i not in stopwords.words('english') and i not in string.punctuation:\n",
        "            y.append(i)\n",
        "\n",
        "    text = y[:]\n",
        "    y.clear()\n",
        "\n",
        "    for i in text:\n",
        "        y.append(ps.stem(i))\n",
        "\n",
        "    return \" \".join(y)\n",
        "\n",
        "tfidf = pickle.load(open('vectorizer.pkl','rb'))\n",
        "model = pickle.load(open('model.pkl','rb'))\n",
        "\n",
        "st.title(\"Email/SMS Spam Classifier\")\n",
        "\n",
        "input_sms = st.text_area(\"Enter the message\")\n",
        "\n",
        "if st.button('Predict'):\n",
        "\n",
        "    # 1. preprocess\n",
        "    transformed_sms = transform_text(input_sms)\n",
        "    # 2. vectorize\n",
        "    vector_input = tfidf.transform([transformed_sms])\n",
        "    # 3. predict\n",
        "    result = model.predict(vector_input)[0]\n",
        "    # 4. Display\n",
        "    if result == 1:\n",
        "        st.header(\"Spam\")\n",
        "    else:\n",
        "        st.header(\"Not Spam\")"
      ],
      "metadata": {
        "id": "PlgnHe4jkvtY"
      },
      "execution_count": null,
      "outputs": []
    }
  ]
}